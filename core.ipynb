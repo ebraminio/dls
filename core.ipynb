{
 "cells": [
  {
   "cell_type": "code",
   "execution_count": 1,
   "metadata": {},
   "outputs": [],
   "source": [
    "# restarts the service\n",
    "#!sudo supervisorctl stop core\n",
    "#!sudo supervisorctl start core"
   ]
  },
  {
   "cell_type": "code",
   "execution_count": 2,
   "metadata": {},
   "outputs": [],
   "source": [
    "#!tail -n 20 /home/ebrahim/core.out"
   ]
  },
  {
   "cell_type": "code",
   "execution_count": 3,
   "metadata": {},
   "outputs": [
    {
     "name": "stderr",
     "output_type": "stream",
     "text": [
      "Using TensorFlow backend.\n"
     ]
    }
   ],
   "source": [
    "import os\n",
    "os.environ[\"KERAS_BACKEND\"] = \"tensorflow\" # Xception needs TF\n",
    "\n",
    "import requests\n",
    "from PIL import Image\n",
    "import io\n",
    "import re\n",
    "import urllib.parse\n",
    "\n",
    "import numpy as np\n",
    "\n",
    "from keras.applications import ResNet50\n",
    "from keras.applications import InceptionV3\n",
    "from keras.applications import Xception # TensorFlow ONLY\n",
    "from keras.applications import VGG16\n",
    "from keras.applications import VGG19\n",
    "from keras.applications import MobileNet\n",
    "from keras.applications import imagenet_utils\n",
    "from keras.preprocessing.image import img_to_array\n",
    "import keras.applications.inception_v3"
   ]
  },
  {
   "cell_type": "code",
   "execution_count": 4,
   "metadata": {
    "collapsed": true
   },
   "outputs": [],
   "source": [
    "MODELS = {\n",
    "    \"mobilenet\": MobileNet,\n",
    "    \"vgg16\": VGG16,\n",
    "    \"vgg19\": VGG19,\n",
    "    \"inception\": InceptionV3,\n",
    "    \"xception\": Xception, # TensorFlow ONLY\n",
    "    \"resnet\": ResNet50\n",
    "}\n",
    "\n",
    "AVALABLE_MODELS = {}\n",
    "#available_models = {model_name: model(weights=\"imagenet\") for model_name, model in MODELS.items()}\n",
    "\n",
    "def img_classify(img, model_name=\"vgg19\"):\n",
    "    inputShape = (224, 224)\n",
    "    preprocess = imagenet_utils.preprocess_input\n",
    "\n",
    "    if model_name in (\"inception\", \"xception\"):\n",
    "        inputShape = (299, 299)\n",
    "        preprocess = keras.applications.inception_v3.preprocess_input\n",
    "\n",
    "    if model_name not in AVALABLE_MODELS:\n",
    "        AVALABLE_MODELS[model_name] = MODELS[model_name](weights=\"imagenet\")\n",
    "    model = AVALABLE_MODELS[model_name]\n",
    "\n",
    "    img = img_to_array(img.convert('RGB').resize(inputShape))\n",
    "    # prepend a numpy array dimension, (x, y, 3) -> (1, x, y, 3)\n",
    "    img = preprocess(np.expand_dims(img, axis=0))\n",
    "\n",
    "    preds = model.predict(img)\n",
    "    P = imagenet_utils.decode_predictions(preds)\n",
    "\n",
    "    return [[label, float(prob), imagenetID] for (imagenetID, label, prob) in P[0]]"
   ]
  },
  {
   "cell_type": "code",
   "execution_count": 12,
   "metadata": {},
   "outputs": [
    {
     "data": {
      "text/plain": [
       "{'categories': ['Category:Patio de los Naranjos',\n",
       "  'Category:Patio del Mexuar',\n",
       "  'Category:Patio de los Naranjos, Mosque-Cathedral of Córdoba',\n",
       "  'Category:Patios in the Philippines',\n",
       "  'Category:Patio de los Arrayanes'],\n",
       " 'name': 'Yipu 4.jpg',\n",
       " 'tags': [['patio', 0.3328576982021332, 'n03899768'],\n",
       "  ['lakeside', 0.19316774606704712, 'n09332890'],\n",
       "  ['boathouse', 0.15833984315395355, 'n02859443'],\n",
       "  ['valley', 0.07808777689933777, 'n09468604'],\n",
       "  ['greenhouse', 0.03299791365861893, 'n03457902']]}"
      ]
     },
     "execution_count": 12,
     "metadata": {},
     "output_type": "execute_result"
    }
   ],
   "source": [
    "def load_pages(pages):\n",
    "    infos = requests.get('https://commons.wikimedia.org/w/api.php',\n",
    "                 {'action': 'query', 'prop': 'revisions', 'rvprop': 'content', 'format': 'json',\n",
    "                  'titles': '|'.join(pages)}).json()\n",
    "\n",
    "    return {x['title']: x['revisions'][0]['*'] for x in infos['query']['pages'].values()}\n",
    "\n",
    "\n",
    "def filter_categories(cats):\n",
    "    return {title for title, content in load_pages(cats).items()\n",
    "            if 'catredir' not in content and\n",
    "               'Category redirect' not in content}\n",
    "\n",
    "\n",
    "def search_for_category(term):\n",
    "    # https://commons.wikimedia.org/w/api.php?action=help&modules=query%2Bsearch\n",
    "    info = requests.get('https://commons.wikimedia.org/w/api.php',\n",
    "                        {'action': 'query', 'list': 'search', 'srsearch': term,\n",
    "                         'srprop': '', 'srnamespace': 14, 'format': 'json'},\n",
    "                        headers={'User-Agent': 'Deep Learning Services'}).json()\n",
    "    cats = [x['title'] for x in info['query']['search']]\n",
    "    return list(filter_categories(cats)) if cats else []\n",
    "\n",
    "\n",
    "def image_category(image, model):\n",
    "    #if model not in MODELS:\n",
    "    #    raise Exception('Requested model not available')\n",
    "    infos = requests.get('https://commons.wikimedia.org/w/api.php',\n",
    "                         {'action': 'query', 'prop': 'imageinfo', 'format': 'json',\n",
    "                          'iiprop': 'url', 'iiurlwidth': 300,\n",
    "                          'titles': 'File:' + image},\n",
    "                         headers={'User-Agent': 'Deep Learning Services'}).json()['query']['pages']\n",
    "    url = ((list(infos.values()) or [{}])[0].get('imageinfo') or [{}])[0].get('thumburl')\n",
    "    \n",
    "    if not url:\n",
    "        return []\n",
    "    \n",
    "    tags = img_classify(Image.open(io.BytesIO(requests.get(url).content)))\n",
    "    \n",
    "    categories_from_tagger = search_for_category(tags[0][0].replace('_', ' '))\n",
    "    categories_from_name = search_for_category(image.replace('_', ' ').replace('.', ' ').split(' ')[0])\n",
    "    \n",
    "    result = [x for chain in zip(categories_from_tagger) for x in chain] + categories_from_tagger + categories_from_name\n",
    "    \n",
    "    return {\n",
    "        'name': image,\n",
    "        'tags': tags,\n",
    "        'categories': list(set(list(result)[:5]))\n",
    "    }\n",
    "\n",
    "\n",
    "image_category('Yipu 4.jpg', 'xception')"
   ]
  },
  {
   "cell_type": "code",
   "execution_count": null,
   "metadata": {
    "collapsed": true
   },
   "outputs": [],
   "source": []
  }
 ],
 "metadata": {
  "kernelspec": {
   "display_name": "Python 3",
   "language": "python",
   "name": "python3"
  },
  "language_info": {
   "codemirror_mode": {
    "name": "ipython",
    "version": 3
   },
   "file_extension": ".py",
   "mimetype": "text/x-python",
   "name": "python",
   "nbconvert_exporter": "python",
   "pygments_lexer": "ipython3",
   "version": "3.5.3"
  }
 },
 "nbformat": 4,
 "nbformat_minor": 2
}
